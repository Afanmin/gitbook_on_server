{
 "cells": [
  {
   "cell_type": "code",
   "execution_count": 1,
   "metadata": {},
   "outputs": [],
   "source": [
    "import os"
   ]
  },
  {
   "cell_type": "code",
   "execution_count": 8,
   "metadata": {},
   "outputs": [],
   "source": [
    "a = os.listdir('.')"
   ]
  },
  {
   "cell_type": "code",
   "execution_count": 10,
   "metadata": {},
   "outputs": [
    {
     "output_type": "execute_result",
     "data": {
      "text/plain": "['.git', 'README.md', 'SUMMARY.md', '_book', 'gen_summary.ipynb']"
     },
     "metadata": {},
     "execution_count": 10
    }
   ],
   "source": [
    "a.sort()\n",
    "a"
   ]
  },
  {
   "cell_type": "code",
   "execution_count": 9,
   "metadata": {},
   "outputs": [
    {
     "output_type": "execute_result",
     "data": {
      "text/plain": "['SUMMARY.md', 'README.md', '_book', 'gen_summary.ipynb', '.git']"
     },
     "metadata": {},
     "execution_count": 9
    }
   ],
   "source": [
    "os.path."
   ]
  },
  {
   "cell_type": "code",
   "execution_count": 5,
   "metadata": {},
   "outputs": [
    {
     "output_type": "execute_result",
     "data": {
      "text/plain": "True"
     },
     "metadata": {},
     "execution_count": 5
    }
   ],
   "source": [
    "os.path.isfile('./SUMMARY.md')"
   ]
  },
  {
   "cell_type": "code",
   "execution_count": 80,
   "metadata": {},
   "outputs": [],
   "source": [
    "def generateIndex(dir,root=False,filename = 'SUMMARY.md'):\n",
    "    def myWalkThrough(dir,depth,fp,filename,root=False):\n",
    "        #print(filename)\n",
    "        ls = os.listdir(dir)\n",
    "        ls.sort()\n",
    "        readme = 'README.md'\n",
    "        if not root:\n",
    "            if readme in ls:\n",
    "                fp.write(depth+' '+'['+dir.split('/')[-1]+']'+'('+ dir+'/'+ readme +')\\n')\n",
    "                print(depth,'['+dir.split('/')[-1]+']'+'('+ dir+'/'+ readme +')')\n",
    "            depth = '   ' + depth\n",
    "        for item in ls:\n",
    "            if os.path.isfile(dir+'/'+item):\n",
    "                if os.path.splitext(item)[-1] == '.md':\n",
    "                    if item == readme and not root:\n",
    "                        continue\n",
    "                    if root and item == filename:\n",
    "                        continue\n",
    "                    fp.write(depth+' '+'['+ os.path.splitext(item)[0] +']'+'('+dir+'/'+item+')\\n')\n",
    "                    print(depth,'['+ os.path.splitext(item)[0] +']'+'('+dir+'/'+item+')')\n",
    "\n",
    "        for item in ls:\n",
    "            if not item.startswith('.') and not item.startswith('_'):\n",
    "                if os.path.isdir(dir+'/'+item):\n",
    "                    myWalkThrough(dir+'/'+item,depth,fp,filename)\n",
    "    with open(dir+'/'+filename,'w') as fp:\n",
    "        depth = '*'\n",
    "        fp.write('# '+filename.split('.')[0]+'\\n')\n",
    "        myWalkThrough(dir,depth,fp,filename,root=root)\n",
    "    \n",
    "\n"
   ]
  },
  {
   "cell_type": "code",
   "execution_count": 83,
   "metadata": {
    "tags": []
   },
   "outputs": [
    {
     "output_type": "stream",
     "name": "stdout",
     "text": "* [README](./README.md)\n* [try](./try.md)\n* [july 2020](./july 2020/README.md)\n   * [gitbook的搭建](./july 2020/gitbook的搭建.md)\n"
    }
   ],
   "source": [
    "generateIndex('.',root=True)"
   ]
  },
  {
   "cell_type": "code",
   "execution_count": 86,
   "metadata": {
    "tags": []
   },
   "outputs": [
    {
     "output_type": "stream",
     "name": "stdout",
     "text": "* [gitbook的搭建](./gitbook的搭建.md)\n"
    }
   ],
   "source": [
    "generateIndex('.',root=True,filename='README.md')"
   ]
  },
  {
   "cell_type": "code",
   "execution_count": 84,
   "metadata": {},
   "outputs": [],
   "source": [
    "os.chdir('./july 2020')"
   ]
  },
  {
   "cell_type": "code",
   "execution_count": null,
   "metadata": {},
   "outputs": [],
   "source": []
  }
 ],
 "metadata": {
  "language_info": {
   "codemirror_mode": {
    "name": "ipython",
    "version": 3
   },
   "file_extension": ".py",
   "mimetype": "text/x-python",
   "name": "python",
   "nbconvert_exporter": "python",
   "pygments_lexer": "ipython3",
   "version": 3
  },
  "orig_nbformat": 2,
  "kernelspec": {
   "name": "python_defaultSpec_1595219465101",
   "display_name": "Python 3.7.4 64-bit ('base': conda)"
  }
 },
 "nbformat": 4,
 "nbformat_minor": 2
}